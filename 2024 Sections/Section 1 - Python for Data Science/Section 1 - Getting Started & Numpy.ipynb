{
 "cells": [
  {
   "cell_type": "markdown",
   "id": "05fb0830",
   "metadata": {},
   "source": [
    "# <font color='#B31B1B'> Getting Started </font>"
   ]
  },
  {
   "cell_type": "markdown",
   "id": "a8f89592",
   "metadata": {},
   "source": [
    "In this course we will make use of python notebooks. There are many ways to create python code, including Jupyter Notebook, Visual Studio, Anaconda, etc. One quick way is to use Google Colab which already came with your Google account. You are welcome to set up your own python environment on your device (e.g. using Anaconda), we may not be able to help you with some issues you may encounter. \n",
    "\n",
    "Go to https://colab.research.google.com/ and sign in with a Google account. Then you can create a new notebook, open an existing notebook, or upload a notebook by clicking the \"File\" button in the top left of the window and choosing the respective option from the dropdown menu. For recitations, you may want to download the notebook from Canvas and then upload and open it in Google Colab so you can have your questions and answers next to each other. For homeworks you will likely create a new notebook from scratch.\n",
    "\n",
    "Right under the \"File\" button are the \"Code+\" and \"Text+\" buttons. These let you add code cells and text cells respectively. Code cells are where you type your Python code and can run it by either clicking the play button that pops up on the left of the cell when you move your mouse over it or by clicking the cell and using the keyboard shortcut \"Shift+Enter\". The text cells let you add text/math in the notebook and is what allows us to display the text you're currently reading.\n",
    "\n",
    "To save a notebook as a pdf to turn in (for homeworks or projects, no need to turn in for recitations), select \"File\" -> \"Print\" and then choose \"Save as PDF\" as the destination.\n",
    "\n",
    "For other ways, for example, Jupyter, you may directly go to its website to download and start your notebook."
   ]
  },
  {
   "cell_type": "markdown",
   "id": "d697967e",
   "metadata": {},
   "source": [
    "### <font color='#B31B1B'> Python Basics </font>"
   ]
  },
  {
   "cell_type": "code",
   "execution_count": 1,
   "id": "de921d14",
   "metadata": {},
   "outputs": [
    {
     "name": "stdout",
     "output_type": "stream",
     "text": [
      "Hello Wolrd\n"
     ]
    }
   ],
   "source": [
    "print(\"Hello Wolrd!\")\n",
    "#type(\"Hello Wolrd\")"
   ]
  },
  {
   "cell_type": "code",
   "execution_count": 6,
   "id": "f264de30",
   "metadata": {},
   "outputs": [
    {
     "name": "stdout",
     "output_type": "stream",
     "text": [
      "1 type is  <class 'int'>\n",
      "1.2 type is  <class 'float'>\n",
      "Hello World! type is  <class 'str'>\n"
     ]
    }
   ],
   "source": [
    "#data types\n",
    "data = [1,1.2,\"Hello World!\"] #list data type\n",
    "n = len(data) #\"len\" function returns the number of elements\n",
    "\n",
    "#for loop (you may try using whlie loop)\n",
    "for i in range(n):\n",
    "#for d in data:\n",
    "    print(data[i], \"type is \", type(data[i]))\n",
    "    #print(d, \"type is \", type(d))"
   ]
  },
  {
   "cell_type": "code",
   "execution_count": 7,
   "id": "8a9d9af1",
   "metadata": {},
   "outputs": [
    {
     "data": {
      "text/plain": [
       "list"
      ]
     },
     "execution_count": 7,
     "metadata": {},
     "output_type": "execute_result"
    }
   ],
   "source": [
    "type(data)"
   ]
  },
  {
   "cell_type": "code",
   "execution_count": 19,
   "id": "fe28096e",
   "metadata": {},
   "outputs": [],
   "source": [
    "#list data type basics\n",
    "L = [1,2,3] #easiest way of creating a list\n",
    "L = [i for i in range(10)] #using for loop to create a list\n",
    "#L = [i**2 for i in range(5)]\n",
    "#print(L)\n",
    "\n",
    "A = [1,2,3]\n",
    "B = [4,5,6]\n",
    "#\"adding\" two lists is equivalent to concatenating two lists\n",
    "#print(A + B)\n",
    "\n",
    "#you may also create a list of list\n",
    "C = [[1,2,3],[4,5,6]]"
   ]
  },
  {
   "cell_type": "code",
   "execution_count": 25,
   "id": "5ffd65b8",
   "metadata": {},
   "outputs": [
    {
     "name": "stdout",
     "output_type": "stream",
     "text": [
      "[3, 3]\n"
     ]
    }
   ],
   "source": [
    "#Function: It may received multiple inputs, or return nothing but\n",
    "#a function must do something, e.g. \"len\" is a function\n",
    "def sampleFN1(x):\n",
    "    return x**2\n",
    "\n",
    "def sampleFN2(x,y):\n",
    "    return x**2 - y**2\n",
    "\n",
    "def sampleFN3(text):\n",
    "    return text[::-1] #reverting the given text\n",
    "\n",
    "#\"map\" function: Applying the given function to given multiple input\n",
    "result = map(len,C)\n",
    "print(list(result))"
   ]
  },
  {
   "cell_type": "markdown",
   "id": "e986d81e",
   "metadata": {},
   "source": [
    "### <font color='#B31B1B'> Numpy Basics </font>\n",
    "\n",
    "You may be used to writing for loops in other classes but in python, iterating over lists (e.g. `[1,2,3]`) and operating on each element is very slow. One reason is that the objects in these lists can be of different types and sizes, for example `a = [1,'hello', (3,4,5), myObject]` is valid Python. \n",
    "\n",
    "When working with numerical data, it's a good idea instead to use Numpy arrays where looping is done in optimized C code making use of vectorized operations. Consider two ways of applying a simple function to an array of numbers."
   ]
  },
  {
   "cell_type": "code",
   "execution_count": 26,
   "id": "dfb07e04",
   "metadata": {},
   "outputs": [],
   "source": [
    "import numpy as np"
   ]
  },
  {
   "cell_type": "code",
   "execution_count": 27,
   "id": "1f4ddca5",
   "metadata": {},
   "outputs": [
    {
     "name": "stdout",
     "output_type": "stream",
     "text": [
      "[0, 1, 4, 9, 16, 25, 36, 49, 64, 81]\n",
      "[0, 1, 4, 9, 16, 25, 36, 49, 64, 81]\n",
      "[ 0  1  4  9 16 25 36 49 64 81]\n"
     ]
    }
   ],
   "source": [
    "# Using for loops and lists\n",
    "y = []\n",
    "for i in range(10):\n",
    "    y.append(i**2)\n",
    "print(y)\n",
    "\n",
    "# Using list comprehensions\n",
    "y = [i**2 for i in range(10)]\n",
    "print(y)\n",
    "\n",
    "# Using numpy arrays\n",
    "x = np.arange(10)\n",
    "y = x**2\n",
    "print(y)"
   ]
  },
  {
   "cell_type": "code",
   "execution_count": 33,
   "id": "163b2513",
   "metadata": {},
   "outputs": [
    {
     "name": "stdout",
     "output_type": "stream",
     "text": [
      "20 µs ± 293 ns per loop (mean ± std. dev. of 7 runs, 10,000 loops each)\n",
      "1.07 µs ± 5.64 ns per loop (mean ± std. dev. of 7 runs, 1,000,000 loops each)\n"
     ]
    }
   ],
   "source": [
    "# Use %timeit cell magic to time execution\n",
    "%timeit [i**2 for i in range(100)]\n",
    "%timeit np.arange(100)**2"
   ]
  },
  {
   "cell_type": "code",
   "execution_count": 34,
   "id": "ee3d84c3",
   "metadata": {},
   "outputs": [
    {
     "name": "stdout",
     "output_type": "stream",
     "text": [
      "[ 9 16 25 36 49]\n",
      "[False False False  True  True  True  True  True  True  True]\n",
      "[ 9 16 25 36 49 64 81]\n"
     ]
    }
   ],
   "source": [
    "# Indexing and slicing\n",
    "y = np.arange(10)**2\n",
    "print(y[3:8])\n",
    "mask = y > 5\n",
    "print(mask)\n",
    "\n",
    "# Indexing by boolean masks\n",
    "print(y[mask])"
   ]
  },
  {
   "cell_type": "code",
   "execution_count": 39,
   "id": "3ba27c99",
   "metadata": {},
   "outputs": [
    {
     "name": "stdout",
     "output_type": "stream",
     "text": [
      "u = [1 2 3]\n",
      "v = [4 5 6]\n",
      "u + v = [5 7 9]\n",
      "<u,v> = 32\n",
      "<u,v> = 32\n"
     ]
    }
   ],
   "source": [
    "# generate sample sequences using numpy\n",
    "u = np.array([1,2,3])\n",
    "v = np.array([4,5,6])\n",
    "print(\"u = {}\".format(u))\n",
    "print(\"v = {}\".format(v))\n",
    "print(\"u + v = {}\".format(u + v))\n",
    "print(\"<u,v> = {}\".format(u@v))\n",
    "print(\"<u,v> = {}\".format(u.dot(v)))"
   ]
  },
  {
   "cell_type": "code",
   "execution_count": 42,
   "id": "51763a69",
   "metadata": {},
   "outputs": [
    {
     "name": "stdout",
     "output_type": "stream",
     "text": [
      "[[-1  0]\n",
      " [ 0 -1]]\n",
      "[[0 1]\n",
      " [1 0]]\n",
      "[[ 0 -1]\n",
      " [ 1  0]]\n",
      "(2, 2)\n",
      "[ 1. -1.]\n"
     ]
    }
   ],
   "source": [
    "#matrices\n",
    "J = np.array([[0,1],[-1,0]])\n",
    "print(J@J)\n",
    "print(J*J)\n",
    "print(J.T)\n",
    "print(J.shape)\n",
    "print(J@np.ones(2))\n",
    "\n",
    "#identity matrix\n",
    "I = np.eye(3)\n",
    "print(I)"
   ]
  },
  {
   "cell_type": "code",
   "execution_count": 82,
   "id": "8cb1ddf4",
   "metadata": {},
   "outputs": [],
   "source": [
    "#linear algebra library (np.linalg)\n",
    "u = np.array([3,4,5])\n",
    "A = np.array([[1,4,7],\n",
    "              [4,5,9],\n",
    "              [7,8,9]])\n",
    "\n",
    "u_norm = np.linalg.norm(u) #vector norms\n",
    "eig_vals, eig_vecs = np.linalg.eig(A) #eigenvalues and vectors\n",
    "A_inv = np.linalg.inv(A) #inverse function (don't recommend)"
   ]
  }
 ],
 "metadata": {
  "kernelspec": {
   "display_name": "Python 3 (ipykernel)",
   "language": "python",
   "name": "python3"
  },
  "language_info": {
   "codemirror_mode": {
    "name": "ipython",
    "version": 3
   },
   "file_extension": ".py",
   "mimetype": "text/x-python",
   "name": "python",
   "nbconvert_exporter": "python",
   "pygments_lexer": "ipython3",
   "version": "3.9.12"
  }
 },
 "nbformat": 4,
 "nbformat_minor": 5
}

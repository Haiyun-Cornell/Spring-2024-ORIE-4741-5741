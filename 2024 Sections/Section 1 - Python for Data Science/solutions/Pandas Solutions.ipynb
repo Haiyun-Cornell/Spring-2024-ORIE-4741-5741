{
 "cells": [
  {
   "cell_type": "markdown",
   "metadata": {},
   "source": [
    "### <font color='#B31B1B'>  Pandas Practice Solutions </font>"
   ]
  },
  {
   "cell_type": "markdown",
   "metadata": {},
   "source": [
    "**Warning:** Give the questions a go before you look at the solutions (you'll learn more!), also there are more than one way to solve these problems. \n",
    "\n",
    "Use the airbnb data (`airbnb.csv`) to answer the following:"
   ]
  },
  {
   "cell_type": "code",
   "execution_count": 1,
   "metadata": {},
   "outputs": [],
   "source": [
    "import pandas as pd\n",
    "\n",
    "airbnb = pd.read_csv('data/airbnb.csv')"
   ]
  },
  {
   "cell_type": "markdown",
   "metadata": {},
   "source": [
    "#### <font color='#B31B1B'>  Exercise 1 </font>\n",
    "\n",
    "Alice is going to Lisbon for a week with her husband and 2 kids. They are looking for a full apartment with separate rooms for parents and children. Money is not an issue for them, but they are looking for a good place. This means they are only looking for places with more than 10 reviews and a score above 4. When we show Alice our listing selection we need to make sure we are sorting the listings from the best score to the worse one. In case some listings have the same score, we will have to sort them by the number of reviews (the more the better). We need to give her  3 alternatives."
   ]
  },
  {
   "cell_type": "code",
   "execution_count": 4,
   "metadata": {},
   "outputs": [
    {
     "data": {
      "text/html": [
       "<div>\n",
       "<style scoped>\n",
       "    .dataframe tbody tr th:only-of-type {\n",
       "        vertical-align: middle;\n",
       "    }\n",
       "\n",
       "    .dataframe tbody tr th {\n",
       "        vertical-align: top;\n",
       "    }\n",
       "\n",
       "    .dataframe thead th {\n",
       "        text-align: right;\n",
       "    }\n",
       "</style>\n",
       "<table border=\"1\" class=\"dataframe\">\n",
       "  <thead>\n",
       "    <tr style=\"text-align: right;\">\n",
       "      <th></th>\n",
       "      <th>room_id</th>\n",
       "      <th>host_id</th>\n",
       "      <th>room_type</th>\n",
       "      <th>neighborhood</th>\n",
       "      <th>reviews</th>\n",
       "      <th>overall_satisfaction</th>\n",
       "      <th>accommodates</th>\n",
       "      <th>bedrooms</th>\n",
       "      <th>price</th>\n",
       "    </tr>\n",
       "  </thead>\n",
       "  <tbody>\n",
       "    <tr>\n",
       "      <th>120</th>\n",
       "      <td>176153</td>\n",
       "      <td>842219</td>\n",
       "      <td>Entire home/apt</td>\n",
       "      <td>Misericórdia</td>\n",
       "      <td>438</td>\n",
       "      <td>5.0</td>\n",
       "      <td>4</td>\n",
       "      <td>2.0</td>\n",
       "      <td>102.0</td>\n",
       "    </tr>\n",
       "    <tr>\n",
       "      <th>16</th>\n",
       "      <td>44043</td>\n",
       "      <td>192830</td>\n",
       "      <td>Entire home/apt</td>\n",
       "      <td>Santa Maria Maior</td>\n",
       "      <td>316</td>\n",
       "      <td>5.0</td>\n",
       "      <td>7</td>\n",
       "      <td>3.0</td>\n",
       "      <td>80.0</td>\n",
       "    </tr>\n",
       "    <tr>\n",
       "      <th>140</th>\n",
       "      <td>202150</td>\n",
       "      <td>989393</td>\n",
       "      <td>Entire home/apt</td>\n",
       "      <td>Santa Maria Maior</td>\n",
       "      <td>274</td>\n",
       "      <td>5.0</td>\n",
       "      <td>4</td>\n",
       "      <td>2.0</td>\n",
       "      <td>62.0</td>\n",
       "    </tr>\n",
       "  </tbody>\n",
       "</table>\n",
       "</div>"
      ],
      "text/plain": [
       "     room_id  host_id        room_type       neighborhood  reviews  \\\n",
       "120   176153   842219  Entire home/apt       Misericórdia      438   \n",
       "16     44043   192830  Entire home/apt  Santa Maria Maior      316   \n",
       "140   202150   989393  Entire home/apt  Santa Maria Maior      274   \n",
       "\n",
       "     overall_satisfaction  accommodates  bedrooms  price  \n",
       "120                   5.0             4       2.0  102.0  \n",
       "16                    5.0             7       3.0   80.0  \n",
       "140                   5.0             4       2.0   62.0  "
      ]
     },
     "execution_count": 4,
     "metadata": {},
     "output_type": "execute_result"
    }
   ],
   "source": [
    "#First we apply all our filters on rooms\n",
    "#Then we sort values first by score, then reviews (ascending = False so better scores come first)\n",
    "#We then get the top 3 results\n",
    "(airbnb\n",
    " .query('(room_type == \\'Entire home/apt\\') and (bedrooms >= 2) and (reviews > 10) and (overall_satisfaction > 4)')\n",
    " .sort_values(by=['overall_satisfaction','reviews'], ascending=[False,False])\n",
    " .head(3)\n",
    ")"
   ]
  },
  {
   "cell_type": "markdown",
   "metadata": {},
   "source": [
    "#### <font color='#B31B1B'>  Exercise 2 </font>\n",
    "\n",
    "Diana is going to spend 3 nights in Lisbon and she wants to meet new people. She has a budget of 50€. We need to provide to her the 10 cheapests listings, with a preference for shared rooms. We need to sort the rooms by score (descending)."
   ]
  },
  {
   "cell_type": "code",
   "execution_count": 6,
   "metadata": {},
   "outputs": [
    {
     "data": {
      "text/html": [
       "<div>\n",
       "<style scoped>\n",
       "    .dataframe tbody tr th:only-of-type {\n",
       "        vertical-align: middle;\n",
       "    }\n",
       "\n",
       "    .dataframe tbody tr th {\n",
       "        vertical-align: top;\n",
       "    }\n",
       "\n",
       "    .dataframe thead th {\n",
       "        text-align: right;\n",
       "    }\n",
       "</style>\n",
       "<table border=\"1\" class=\"dataframe\">\n",
       "  <thead>\n",
       "    <tr style=\"text-align: right;\">\n",
       "      <th></th>\n",
       "      <th>room_id</th>\n",
       "      <th>host_id</th>\n",
       "      <th>room_type</th>\n",
       "      <th>neighborhood</th>\n",
       "      <th>reviews</th>\n",
       "      <th>overall_satisfaction</th>\n",
       "      <th>accommodates</th>\n",
       "      <th>bedrooms</th>\n",
       "      <th>price</th>\n",
       "    </tr>\n",
       "  </thead>\n",
       "  <tbody>\n",
       "    <tr>\n",
       "      <th>11789</th>\n",
       "      <td>18154378</td>\n",
       "      <td>124601372</td>\n",
       "      <td>Shared room</td>\n",
       "      <td>Santo António</td>\n",
       "      <td>4</td>\n",
       "      <td>4.5</td>\n",
       "      <td>4</td>\n",
       "      <td>1.0</td>\n",
       "      <td>11.0</td>\n",
       "    </tr>\n",
       "    <tr>\n",
       "      <th>5616</th>\n",
       "      <td>9317561</td>\n",
       "      <td>48360716</td>\n",
       "      <td>Shared room</td>\n",
       "      <td>Arroios</td>\n",
       "      <td>13</td>\n",
       "      <td>4.5</td>\n",
       "      <td>4</td>\n",
       "      <td>1.0</td>\n",
       "      <td>11.0</td>\n",
       "    </tr>\n",
       "    <tr>\n",
       "      <th>3562</th>\n",
       "      <td>5557699</td>\n",
       "      <td>28812904</td>\n",
       "      <td>Shared room</td>\n",
       "      <td>Santa Maria Maior</td>\n",
       "      <td>22</td>\n",
       "      <td>4.0</td>\n",
       "      <td>1</td>\n",
       "      <td>1.0</td>\n",
       "      <td>10.0</td>\n",
       "    </tr>\n",
       "    <tr>\n",
       "      <th>1010</th>\n",
       "      <td>1179457</td>\n",
       "      <td>5799522</td>\n",
       "      <td>Shared room</td>\n",
       "      <td>Santo António</td>\n",
       "      <td>42</td>\n",
       "      <td>4.0</td>\n",
       "      <td>16</td>\n",
       "      <td>1.0</td>\n",
       "      <td>10.0</td>\n",
       "    </tr>\n",
       "    <tr>\n",
       "      <th>3597</th>\n",
       "      <td>5610245</td>\n",
       "      <td>29084261</td>\n",
       "      <td>Shared room</td>\n",
       "      <td>Santa Maria Maior</td>\n",
       "      <td>8</td>\n",
       "      <td>4.0</td>\n",
       "      <td>4</td>\n",
       "      <td>1.0</td>\n",
       "      <td>11.0</td>\n",
       "    </tr>\n",
       "    <tr>\n",
       "      <th>6639</th>\n",
       "      <td>11693115</td>\n",
       "      <td>28812904</td>\n",
       "      <td>Shared room</td>\n",
       "      <td>Santa Maria Maior</td>\n",
       "      <td>5</td>\n",
       "      <td>3.5</td>\n",
       "      <td>1</td>\n",
       "      <td>1.0</td>\n",
       "      <td>11.0</td>\n",
       "    </tr>\n",
       "    <tr>\n",
       "      <th>4354</th>\n",
       "      <td>6728398</td>\n",
       "      <td>28812904</td>\n",
       "      <td>Shared room</td>\n",
       "      <td>Santa Maria Maior</td>\n",
       "      <td>3</td>\n",
       "      <td>2.5</td>\n",
       "      <td>1</td>\n",
       "      <td>1.0</td>\n",
       "      <td>11.0</td>\n",
       "    </tr>\n",
       "    <tr>\n",
       "      <th>13148</th>\n",
       "      <td>19314160</td>\n",
       "      <td>135270245</td>\n",
       "      <td>Shared room</td>\n",
       "      <td>Santa Clara</td>\n",
       "      <td>0</td>\n",
       "      <td>0.0</td>\n",
       "      <td>1</td>\n",
       "      <td>1.0</td>\n",
       "      <td>10.0</td>\n",
       "    </tr>\n",
       "    <tr>\n",
       "      <th>7584</th>\n",
       "      <td>13116032</td>\n",
       "      <td>72951043</td>\n",
       "      <td>Shared room</td>\n",
       "      <td>Arroios</td>\n",
       "      <td>1</td>\n",
       "      <td>0.0</td>\n",
       "      <td>8</td>\n",
       "      <td>1.0</td>\n",
       "      <td>10.0</td>\n",
       "    </tr>\n",
       "    <tr>\n",
       "      <th>11787</th>\n",
       "      <td>18154042</td>\n",
       "      <td>124601372</td>\n",
       "      <td>Shared room</td>\n",
       "      <td>Avenidas Novas</td>\n",
       "      <td>1</td>\n",
       "      <td>0.0</td>\n",
       "      <td>6</td>\n",
       "      <td>1.0</td>\n",
       "      <td>11.0</td>\n",
       "    </tr>\n",
       "  </tbody>\n",
       "</table>\n",
       "</div>"
      ],
      "text/plain": [
       "        room_id    host_id    room_type       neighborhood  reviews  \\\n",
       "11789  18154378  124601372  Shared room      Santo António        4   \n",
       "5616    9317561   48360716  Shared room            Arroios       13   \n",
       "3562    5557699   28812904  Shared room  Santa Maria Maior       22   \n",
       "1010    1179457    5799522  Shared room      Santo António       42   \n",
       "3597    5610245   29084261  Shared room  Santa Maria Maior        8   \n",
       "6639   11693115   28812904  Shared room  Santa Maria Maior        5   \n",
       "4354    6728398   28812904  Shared room  Santa Maria Maior        3   \n",
       "13148  19314160  135270245  Shared room        Santa Clara        0   \n",
       "7584   13116032   72951043  Shared room            Arroios        1   \n",
       "11787  18154042  124601372  Shared room     Avenidas Novas        1   \n",
       "\n",
       "       overall_satisfaction  accommodates  bedrooms  price  \n",
       "11789                   4.5             4       1.0   11.0  \n",
       "5616                    4.5             4       1.0   11.0  \n",
       "3562                    4.0             1       1.0   10.0  \n",
       "1010                    4.0            16       1.0   10.0  \n",
       "3597                    4.0             4       1.0   11.0  \n",
       "6639                    3.5             1       1.0   11.0  \n",
       "4354                    2.5             1       1.0   11.0  \n",
       "13148                   0.0             1       1.0   10.0  \n",
       "7584                    0.0             8       1.0   10.0  \n",
       "11787                   0.0             6       1.0   11.0  "
      ]
     },
     "execution_count": 6,
     "metadata": {},
     "output_type": "execute_result"
    }
   ],
   "source": [
    "#Here we first look only at shared rooms\n",
    "#Then get the 10 cheapest ones\n",
    "#Then sort them by score\n",
    "(airbnb\n",
    " .query('room_type == \\'Shared room\\'')\n",
    " .sort_values(by=['price'])\n",
    " .head(10)\n",
    " .sort_values('overall_satisfaction', ascending=False)\n",
    ")"
   ]
  },
  {
   "cell_type": "markdown",
   "metadata": {},
   "source": [
    "For the following questions use the US primary results data (`primary_results.csv`)."
   ]
  },
  {
   "cell_type": "code",
   "execution_count": 7,
   "metadata": {},
   "outputs": [],
   "source": [
    "votes = pd.read_csv('data/primary_results.csv')"
   ]
  },
  {
   "cell_type": "code",
   "execution_count": 8,
   "metadata": {},
   "outputs": [
    {
     "data": {
      "text/html": [
       "<div>\n",
       "<style scoped>\n",
       "    .dataframe tbody tr th:only-of-type {\n",
       "        vertical-align: middle;\n",
       "    }\n",
       "\n",
       "    .dataframe tbody tr th {\n",
       "        vertical-align: top;\n",
       "    }\n",
       "\n",
       "    .dataframe thead th {\n",
       "        text-align: right;\n",
       "    }\n",
       "</style>\n",
       "<table border=\"1\" class=\"dataframe\">\n",
       "  <thead>\n",
       "    <tr style=\"text-align: right;\">\n",
       "      <th></th>\n",
       "      <th>state</th>\n",
       "      <th>state_abbreviation</th>\n",
       "      <th>county</th>\n",
       "      <th>fips</th>\n",
       "      <th>party</th>\n",
       "      <th>candidate</th>\n",
       "      <th>votes</th>\n",
       "      <th>fraction_votes</th>\n",
       "    </tr>\n",
       "  </thead>\n",
       "  <tbody>\n",
       "    <tr>\n",
       "      <th>0</th>\n",
       "      <td>Alabama</td>\n",
       "      <td>AL</td>\n",
       "      <td>Autauga</td>\n",
       "      <td>1001.0</td>\n",
       "      <td>Democrat</td>\n",
       "      <td>Bernie Sanders</td>\n",
       "      <td>544</td>\n",
       "      <td>0.182</td>\n",
       "    </tr>\n",
       "    <tr>\n",
       "      <th>1</th>\n",
       "      <td>Alabama</td>\n",
       "      <td>AL</td>\n",
       "      <td>Autauga</td>\n",
       "      <td>1001.0</td>\n",
       "      <td>Democrat</td>\n",
       "      <td>Hillary Clinton</td>\n",
       "      <td>2387</td>\n",
       "      <td>0.800</td>\n",
       "    </tr>\n",
       "    <tr>\n",
       "      <th>2</th>\n",
       "      <td>Alabama</td>\n",
       "      <td>AL</td>\n",
       "      <td>Baldwin</td>\n",
       "      <td>1003.0</td>\n",
       "      <td>Democrat</td>\n",
       "      <td>Bernie Sanders</td>\n",
       "      <td>2694</td>\n",
       "      <td>0.329</td>\n",
       "    </tr>\n",
       "    <tr>\n",
       "      <th>3</th>\n",
       "      <td>Alabama</td>\n",
       "      <td>AL</td>\n",
       "      <td>Baldwin</td>\n",
       "      <td>1003.0</td>\n",
       "      <td>Democrat</td>\n",
       "      <td>Hillary Clinton</td>\n",
       "      <td>5290</td>\n",
       "      <td>0.647</td>\n",
       "    </tr>\n",
       "    <tr>\n",
       "      <th>4</th>\n",
       "      <td>Alabama</td>\n",
       "      <td>AL</td>\n",
       "      <td>Barbour</td>\n",
       "      <td>1005.0</td>\n",
       "      <td>Democrat</td>\n",
       "      <td>Bernie Sanders</td>\n",
       "      <td>222</td>\n",
       "      <td>0.078</td>\n",
       "    </tr>\n",
       "  </tbody>\n",
       "</table>\n",
       "</div>"
      ],
      "text/plain": [
       "     state state_abbreviation   county    fips     party        candidate  \\\n",
       "0  Alabama                 AL  Autauga  1001.0  Democrat   Bernie Sanders   \n",
       "1  Alabama                 AL  Autauga  1001.0  Democrat  Hillary Clinton   \n",
       "2  Alabama                 AL  Baldwin  1003.0  Democrat   Bernie Sanders   \n",
       "3  Alabama                 AL  Baldwin  1003.0  Democrat  Hillary Clinton   \n",
       "4  Alabama                 AL  Barbour  1005.0  Democrat   Bernie Sanders   \n",
       "\n",
       "   votes  fraction_votes  \n",
       "0    544           0.182  \n",
       "1   2387           0.800  \n",
       "2   2694           0.329  \n",
       "3   5290           0.647  \n",
       "4    222           0.078  "
      ]
     },
     "execution_count": 8,
     "metadata": {},
     "output_type": "execute_result"
    }
   ],
   "source": [
    "votes.head()"
   ]
  },
  {
   "cell_type": "markdown",
   "metadata": {},
   "source": [
    "#### <font color='#B31B1B'>  Exercise 3 </font>\n",
    "\n",
    "Overall, which percentage of votes did every party get?"
   ]
  },
  {
   "cell_type": "code",
   "execution_count": 13,
   "metadata": {},
   "outputs": [
    {
     "data": {
      "text/plain": [
       "party\n",
       "Democrat      48.733082\n",
       "Republican    51.266918\n",
       "Name: votes, dtype: float64"
      ]
     },
     "execution_count": 13,
     "metadata": {},
     "output_type": "execute_result"
    }
   ],
   "source": [
    "# Here we first group votes by party affiliation and then sum\n",
    "# We then normalize by the total number of votes\n",
    "votes.groupby('party')['votes'].sum() / votes['votes'].sum() * 100\n",
    "\n",
    "# Remember these are primary votes (and the rep. primary was more competitive) not the general election!"
   ]
  },
  {
   "cell_type": "markdown",
   "metadata": {},
   "source": [
    "#### <font color='#B31B1B'>  Exercise 4 </font>\n",
    "\n",
    "Who is the democrat candidate that got the most votes in the state of New York?"
   ]
  },
  {
   "cell_type": "code",
   "execution_count": 21,
   "metadata": {},
   "outputs": [
    {
     "data": {
      "text/plain": [
       "1    Hillary Clinton\n",
       "Name: candidate, dtype: object"
      ]
     },
     "execution_count": 21,
     "metadata": {},
     "output_type": "execute_result"
    }
   ],
   "source": [
    "#We first pull out democratic votes in NY\n",
    "#We then sum them for each candidate\n",
    "# Then sort by the vote counts and return the top vote getting candidate\n",
    "(votes\n",
    " .query('(party == \\'Democrat\\') and (state_abbreviation == \\'NY\\')')\n",
    " .groupby('candidate')['votes'].sum()\n",
    " .reset_index()\n",
    " .sort_values('votes',ascending=False)\n",
    " .head(1)\n",
    " ['candidate']\n",
    ")"
   ]
  },
  {
   "cell_type": "markdown",
   "metadata": {},
   "source": [
    "#### <font color='#B31B1B'>  Exercise 5 </font>\n",
    "\n",
    "\n",
    "Let's consider democrat states those where the democrats got more votes and republican states those where the republican candidates got more votes. Which states are democrat and which republican?\n",
    "\n",
    "\n",
    "*hint: one way to find out is by doing a pivot table using the sum as an aggregating function*"
   ]
  },
  {
   "cell_type": "code",
   "execution_count": 28,
   "metadata": {},
   "outputs": [],
   "source": [
    "#Here we use a pivot table to get total votes for each party in each state\n",
    "votes_by_party = pd.pivot_table(votes, values=[\"votes\"], index=\"state\",\n",
    "                                   columns=\"party\", aggfunc=\"sum\")[\"votes\"].reset_index()\n",
    "\n",
    "#We then get dem + rep states by filtering states using condition on who got more votes \n",
    "democrat_states = votes_by_party[votes_by_party.Democrat> votes_by_party.Republican].state.to_list()\n",
    "republican_states = votes_by_party[votes_by_party.Democrat < votes_by_party.Republican].state.to_list()"
   ]
  },
  {
   "cell_type": "code",
   "execution_count": 29,
   "metadata": {},
   "outputs": [
    {
     "data": {
      "text/plain": [
       "['California',\n",
       " 'Connecticut',\n",
       " 'Delaware',\n",
       " 'Hawaii',\n",
       " 'Illinois',\n",
       " 'Kentucky',\n",
       " 'Louisiana',\n",
       " 'Maryland',\n",
       " 'Massachusetts',\n",
       " 'New Jersey',\n",
       " 'New Mexico',\n",
       " 'New York',\n",
       " 'Oregon',\n",
       " 'Pennsylvania',\n",
       " 'Rhode Island',\n",
       " 'Vermont',\n",
       " 'West Virginia']"
      ]
     },
     "execution_count": 29,
     "metadata": {},
     "output_type": "execute_result"
    }
   ],
   "source": [
    "democrat_states"
   ]
  }
 ],
 "metadata": {
  "kernelspec": {
   "display_name": "Python 3",
   "language": "python",
   "name": "python3"
  },
  "language_info": {
   "codemirror_mode": {
    "name": "ipython",
    "version": 3
   },
   "file_extension": ".py",
   "mimetype": "text/x-python",
   "name": "python",
   "nbconvert_exporter": "python",
   "pygments_lexer": "ipython3",
   "version": "3.9.1"
  }
 },
 "nbformat": 4,
 "nbformat_minor": 4
}

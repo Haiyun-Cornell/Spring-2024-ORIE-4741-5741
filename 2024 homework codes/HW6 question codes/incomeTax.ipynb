{
 "cells": [
  {
   "cell_type": "markdown",
   "id": "3a74f8eb",
   "metadata": {},
   "source": [
    "# HW6 Data exploration and linear model"
   ]
  },
  {
   "cell_type": "code",
   "execution_count": null,
   "id": "b77779c3",
   "metadata": {},
   "outputs": [],
   "source": [
    "import pandas"
   ]
  },
  {
   "cell_type": "code",
   "execution_count": null,
   "id": "6b5f8aec",
   "metadata": {},
   "outputs": [],
   "source": [
    "# load data\n",
    "tax = pandas.read_csv(\"incomeTaxData.csv\")\n",
    "tax"
   ]
  },
  {
   "cell_type": "markdown",
   "id": "187124f7",
   "metadata": {},
   "source": [
    "You can see just from the first line of the dataset that the there are some rows with no **returns** associated with it. Let's delete those from the dataset.\n",
    "\n",
    "Also note that all of the data is in **thousands of dollars**."
   ]
  },
  {
   "cell_type": "code",
   "execution_count": null,
   "id": "985b7318",
   "metadata": {},
   "outputs": [],
   "source": [
    "# clean data\n",
    "tax = tax.dropna(subset=['ReturnCount'])\n",
    "tax = tax.sort_values(by=['Year'])\n",
    "\n",
    "# create new columns\n",
    "tax['avg_tax'] = tax['TotalTaxLiability']/tax['ReturnCount']"
   ]
  },
  {
   "cell_type": "markdown",
   "id": "995b6b8d",
   "metadata": {},
   "source": [
    "## a)\n",
    "\n",
    "\n",
    "Plot the number of returns in Tompkins County from each income class bracket over time on a single graph.（Ignore the rows with the class of 'Total'. Should span 1999-2013. Some of the county names may have leading/trailing whitespaces.）"
   ]
  },
  {
   "cell_type": "code",
   "execution_count": null,
   "id": "9291e6fa",
   "metadata": {},
   "outputs": [],
   "source": [
    "###Enter your codes here"
   ]
  },
  {
   "cell_type": "markdown",
   "id": "c5facfdc",
   "metadata": {},
   "source": [
    "Plot the average income tax per return in Tompkins County (disregarding income tax).（You could add up the all income classes (except 'Total') to calculate the weighted average tax OR just plot the rows of 'Total'. The sum might differ from the number in 'total'; either answer is ok. Messy data!)"
   ]
  },
  {
   "cell_type": "code",
   "execution_count": null,
   "id": "88135997",
   "metadata": {},
   "outputs": [],
   "source": [
    "###Enter your codes here"
   ]
  },
  {
   "cell_type": "markdown",
   "id": "969706fa",
   "metadata": {},
   "source": [
    "Question: What kind of plot did you choose to make? Why?"
   ]
  },
  {
   "cell_type": "markdown",
   "id": "bf7373fd",
   "metadata": {},
   "source": [
    "Answer:"
   ]
  },
  {
   "cell_type": "markdown",
   "id": "c24611ce",
   "metadata": {},
   "source": [
    "## b)\n",
    "\n",
    "Continuing to look only at Tompkins County, fit a linear model that predicts **avg_tax** using the year number. Do this with **least squares**."
   ]
  },
  {
   "cell_type": "code",
   "execution_count": null,
   "id": "85ca7eae",
   "metadata": {},
   "outputs": [],
   "source": [
    "###Enter your codes here"
   ]
  },
  {
   "cell_type": "markdown",
   "id": "16748305",
   "metadata": {},
   "source": [
    "Transform the input to include an offset term in the model"
   ]
  },
  {
   "cell_type": "code",
   "execution_count": null,
   "id": "163d35e6",
   "metadata": {},
   "outputs": [],
   "source": [
    "###Enter your codes here"
   ]
  },
  {
   "cell_type": "markdown",
   "id": "a55c2691",
   "metadata": {},
   "source": [
    "## c)\n",
    "\n",
    "Now we will change the feature space. Fit a model using the **year** and the **avg_tax** from the previous year (and offset)."
   ]
  },
  {
   "cell_type": "code",
   "execution_count": null,
   "id": "1272d8cf",
   "metadata": {},
   "outputs": [],
   "source": [
    "###Enter your codes here"
   ]
  },
  {
   "cell_type": "markdown",
   "id": "eba28a92",
   "metadata": {},
   "source": [
    "Question: Interpret the coefficients of this. What do they mean?"
   ]
  },
  {
   "cell_type": "markdown",
   "id": "9fb5dfe0",
   "metadata": {},
   "source": [
    "Answer:"
   ]
  },
  {
   "cell_type": "markdown",
   "id": "8d02c5b7",
   "metadata": {},
   "source": [
    "Plot the real average tax return per year against your model's prediction. Discuss how you think your model fits."
   ]
  },
  {
   "cell_type": "code",
   "execution_count": null,
   "id": "7a46b15a",
   "metadata": {},
   "outputs": [],
   "source": [
    "###Enter your codes here"
   ]
  },
  {
   "cell_type": "markdown",
   "id": "2101c72b",
   "metadata": {},
   "source": [
    "Discussion: "
   ]
  },
  {
   "cell_type": "markdown",
   "id": "88c1f9b8",
   "metadata": {},
   "source": [
    "## d)\n",
    "\n",
    "Add two new features to your model. This could be a column of the data, a transformation of a column, or a new column formed from another. The only requirement is that the prediction in year $t$ be based on data avilable by the end of year $t-1$\n",
    "\n",
    "State the feature space for your new model and why you think those features predict the data well. Fit this model and interpret the coefficients."
   ]
  },
  {
   "cell_type": "code",
   "execution_count": null,
   "id": "d5b56cb2",
   "metadata": {},
   "outputs": [],
   "source": [
    "###Enter your codes here"
   ]
  },
  {
   "cell_type": "markdown",
   "id": "7aa94112",
   "metadata": {},
   "source": [
    "Answer to the question:"
   ]
  },
  {
   "cell_type": "markdown",
   "id": "f64315b5",
   "metadata": {},
   "source": [
    "## e)\n",
    "\n",
    "Compare the coefficients from part c and d. Does the coefficient of avg_tax differ in the two models? If so, how do you interpret this difference?"
   ]
  },
  {
   "cell_type": "markdown",
   "id": "fe6da872",
   "metadata": {},
   "source": [
    "Answer:"
   ]
  },
  {
   "cell_type": "markdown",
   "id": "f195a0a0",
   "metadata": {},
   "source": [
    "## f)\n",
    "\n",
    "(see homework handout for details) Now we want to see how this model performs in **other counties**. Apply the model you fit in part c, with coefficients $w^c$, to data from the other counties and compute the error of this model on each data set.\n",
    "\n",
    "Plot a histogram of the mean errors the model makes."
   ]
  },
  {
   "cell_type": "code",
   "execution_count": null,
   "id": "b2b85e1f",
   "metadata": {},
   "outputs": [],
   "source": [
    "###Enter your codes here"
   ]
  },
  {
   "cell_type": "markdown",
   "id": "dfef043a",
   "metadata": {},
   "source": [
    "Are there major outliers?"
   ]
  },
  {
   "cell_type": "markdown",
   "id": "31224d81",
   "metadata": {},
   "source": [
    "Answer:"
   ]
  },
  {
   "cell_type": "markdown",
   "id": "9b1de21e",
   "metadata": {},
   "source": [
    "## g)\n",
    "\n",
    "Using the same features you chose in part d, fit a model to the data for each of the other counties. These will be county-specific models. They may have different coefficient vectors from $w^d$.\n",
    "\n",
    "Plot a histogram of the mean square errors of the county-specific models for their respective counties."
   ]
  },
  {
   "cell_type": "code",
   "execution_count": null,
   "id": "3c93a2c1",
   "metadata": {},
   "outputs": [],
   "source": [
    "###Enter your codes here"
   ]
  },
  {
   "cell_type": "markdown",
   "id": "1c52a23d",
   "metadata": {},
   "source": [
    "Again, are there major outliers? How do the coefficients compare across counties?"
   ]
  },
  {
   "cell_type": "markdown",
   "id": "c0bcde86",
   "metadata": {},
   "source": [
    "Answer:"
   ]
  },
  {
   "cell_type": "markdown",
   "id": "1878817f",
   "metadata": {},
   "source": [
    "## h)\n",
    "\n",
    "If you wanted to predict the income tax in each county in future years, do you think the county-specific models or the Tompkins model would perform better? Why? What concerns might you have about each model?"
   ]
  },
  {
   "cell_type": "markdown",
   "id": "057a63d6",
   "metadata": {},
   "source": [
    "Answer:"
   ]
  },
  {
   "cell_type": "markdown",
   "id": "483584b0",
   "metadata": {},
   "source": [
    "## i)\n",
    "\n",
    "What other information would you want to use to make your model even better?"
   ]
  },
  {
   "cell_type": "markdown",
   "id": "81d9ab1b",
   "metadata": {},
   "source": [
    "Answer:"
   ]
  },
  {
   "cell_type": "markdown",
   "id": "fd45ffdd",
   "metadata": {},
   "source": []
  }
 ],
 "metadata": {
  "kernelspec": {
   "display_name": "Python 3",
   "language": "python",
   "name": "python3"
  },
  "language_info": {
   "codemirror_mode": {
    "name": "ipython",
    "version": 3
   },
   "file_extension": ".py",
   "mimetype": "text/x-python",
   "name": "python",
   "nbconvert_exporter": "python",
   "pygments_lexer": "ipython3",
   "version": "3.11.5"
  }
 },
 "nbformat": 4,
 "nbformat_minor": 5
}
